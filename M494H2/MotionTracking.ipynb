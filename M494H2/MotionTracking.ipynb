{
 "cells": [
  {
   "cell_type": "code",
   "execution_count": 1,
   "id": "c9184302",
   "metadata": {},
   "outputs": [],
   "source": [
    "import scipy.io\n",
    "import numpy as np\n",
    "import matplotlib.pyplot as plt\n",
    "import cv2 as cv"
   ]
  },
  {
   "cell_type": "code",
   "execution_count": 2,
   "id": "6ec0ec4f",
   "metadata": {},
   "outputs": [],
   "source": [
    "#For each camera, we extract the videos from the mat files\n",
    "Mat1 = scipy.io.loadmat('/Users/nadaelarabi/MATH-494/M494H2/cam1_1.mat')\n",
    "dataMat1 = Mat1[\"vidFrames1_1\"]"
   ]
  },
  {
   "cell_type": "code",
   "execution_count": 3,
   "id": "d1090ab5",
   "metadata": {},
   "outputs": [],
   "source": [
    "Mat2 = scipy.io.loadmat('/Users/nadaelarabi/MATH-494/M494H2/cam2_1.mat')\n",
    "dataMat2 = Mat2[\"vidFrames2_1\"]"
   ]
  },
  {
   "cell_type": "code",
   "execution_count": 4,
   "id": "be6f1269",
   "metadata": {},
   "outputs": [],
   "source": [
    "Mat3 = scipy.io.loadmat('/Users/nadaelarabi/MATH-494/M494H2/cam3_1.mat')\n",
    "dataMat3 = Mat3[\"vidFrames3_1\"]"
   ]
  },
  {
   "cell_type": "code",
   "execution_count": 5,
   "id": "78786ebc",
   "metadata": {},
   "outputs": [
    {
     "name": "stdout",
     "output_type": "stream",
     "text": [
      "The dimensions of cam1's take are:  (480, 640, 3, 226)  cam2's:  (480, 640, 3, 284)  cam3's:  (480, 640, 3, 232)\n"
     ]
    }
   ],
   "source": [
    "#We need to determine the dimensions of each of the camera to see what dimensions our data matrix should have\n",
    "print(\"The dimensions of cam1's take are: \",dataMat1.shape,\" cam2's: \",dataMat2.shape,\" cam3's: \",dataMat3.shape)"
   ]
  },
  {
   "cell_type": "code",
   "execution_count": 6,
   "id": "4d37488b",
   "metadata": {},
   "outputs": [],
   "source": [
    "#We write the videos necessary to capture the motion from each camera\n",
    "#We only need to change the dataMati and the name of the videos for each camera take, I wrote them out as \n",
    "#camera1, camera2, camera3\n",
    "#Sometimes necessary to first write the filename as mp4 inside 'filename'\n",
    "height, width,_,nbFrames = dataMat3.shape\n",
    "codec_id = \"mp4v\" # ID for a video codec.\n",
    "fourcc = cv.VideoWriter_fourcc(*codec_id)\n",
    "filename = \"/Users/nadaelarabi/MATH-494/M494H2/camera3.mp4v\"\n",
    "out = cv.VideoWriter(filename, fourcc=fourcc, fps=20, frameSize=(width, height))\n",
    "\n",
    "\n",
    "for i in range(nbFrames):\n",
    "    out.write(dataMat3[:,:,:,i])\n"
   ]
  },
  {
   "cell_type": "code",
   "execution_count": 223,
   "id": "538a2ecb",
   "metadata": {},
   "outputs": [],
   "source": [
    "#Here we declare the matrix that will store our x and y coordinates\n",
    "x_y_coordinateMatrix = np.zeros((0,225))"
   ]
  },
  {
   "cell_type": "code",
   "execution_count": 219,
   "id": "ccc72545",
   "metadata": {},
   "outputs": [],
   "source": [
    "#Now we can set up the motion tracking \n",
    "\n",
    "#First, we begin by setting up a dictionary of legacy motion trackers in opencv\n",
    "TrDict = {\n",
    "    'csrt' : cv.legacy.TrackerCSRT_create,\n",
    "    'mosse' : cv.legacy.TrackerMOSSE_create,\n",
    "    'kcf' : cv.legacy.TrackerKCF_create,\n",
    "    'medianflow': cv.legacy.TrackerMedianFlow_create,\n",
    "    'mil' : cv.legacy.TrackerMIL_create,\n",
    "    'tld' : cv.legacy.TrackerTLD_create,\n",
    "    'boosting' : cv.legacy.TrackerBoosting_create\n",
    "}"
   ]
  },
  {
   "cell_type": "code",
   "execution_count": 258,
   "id": "46d7fc22",
   "metadata": {},
   "outputs": [],
   "source": [
    "#Now we initialize the tracker, csrt was chosen after testing with the other trackers and was found to be the best\n",
    "tracker = TrDict['csrt']()"
   ]
  },
  {
   "cell_type": "code",
   "execution_count": 259,
   "id": "08f33709",
   "metadata": {},
   "outputs": [
    {
     "data": {
      "text/plain": [
       "True"
      ]
     },
     "execution_count": 259,
     "metadata": {},
     "output_type": "execute_result"
    }
   ],
   "source": [
    "#The code below allows us to manually draw a rectangle that will track the motion of the bucket\n",
    "#Recommended to draw a larger box as it makes it less susceptible to be thown off \n",
    "\n",
    "v = cv.VideoCapture('camera3.mp4')\n",
    "ret, frame = v.read()\n",
    "cv.imshow('Frame',frame)\n",
    "bb = cv.selectROI('Frame',frame)\n",
    "tracker.init(frame,bb)\n",
    "    "
   ]
  },
  {
   "cell_type": "code",
   "execution_count": 260,
   "id": "b2f9ad67",
   "metadata": {},
   "outputs": [
    {
     "name": "stdout",
     "output_type": "stream",
     "text": [
      "211.0 167.5\n",
      "204.5 166.0\n",
      "204.0 166.0\n",
      "199.5 165.0\n",
      "199.0 165.0\n",
      "195.0 164.5\n",
      "192.5 163.0\n",
      "193.0 164.0\n",
      "192.5 163.0\n",
      "193.0 164.0\n",
      "195.0 164.0\n",
      "195.0 164.0\n",
      "199.0 164.0\n",
      "206.0 164.5\n",
      "206.5 164.5\n",
      "213.5 165.5\n",
      "213.5 165.5\n",
      "222.0 166.5\n",
      "222.0 166.5\n",
      "231.5 167.5\n",
      "240.0 168.0\n",
      "240.5 169.0\n",
      "246.5 170.0\n",
      "246.0 169.5\n",
      "251.0 170.5\n",
      "252.0 171.0\n",
      "257.0 172.0\n",
      "257.0 173.0\n",
      "257.0 172.5\n",
      "257.5 173.5\n",
      "257.0 174.0\n",
      "254.0 173.0\n",
      "254.0 173.0\n",
      "249.0 172.5\n",
      "240.0 170.0\n",
      "241.0 170.5\n",
      "232.0 168.0\n",
      "233.0 169.0\n",
      "224.0 167.5\n",
      "224.5 167.5\n",
      "214.5 164.0\n",
      "209.0 164.5\n",
      "209.0 164.5\n",
      "203.5 163.0\n",
      "203.5 163.5\n",
      "199.5 162.0\n",
      "199.5 162.5\n",
      "198.5 163.0\n",
      "198.5 162.5\n",
      "198.5 162.5\n",
      "201.5 163.5\n",
      "201.0 164.0\n",
      "205.5 164.0\n",
      "205.5 164.0\n",
      "210.5 164.5\n",
      "219.0 166.0\n",
      "219.0 166.0\n",
      "226.5 167.0\n",
      "226.5 167.5\n",
      "236.0 169.0\n",
      "236.5 169.5\n",
      "243.0 170.5\n",
      "249.0 171.5\n",
      "249.0 172.5\n",
      "253.5 172.5\n",
      "254.0 173.5\n",
      "256.0 172.5\n",
      "256.5 173.0\n",
      "255.5 172.0\n",
      "253.0 171.5\n",
      "253.5 172.0\n",
      "250.0 171.5\n",
      "250.0 171.5\n",
      "245.0 170.5\n",
      "245.0 170.5\n",
      "238.5 169.5\n",
      "230.5 168.0\n",
      "230.0 168.0\n",
      "220.5 166.5\n",
      "219.0 165.0\n",
      "212.0 165.0\n",
      "211.0 164.0\n",
      "204.5 163.5\n",
      "199.5 162.5\n",
      "199.5 162.5\n",
      "196.5 161.5\n",
      "196.5 161.5\n",
      "196.5 162.0\n",
      "196.5 162.0\n",
      "196.0 161.0\n",
      "199.0 161.5\n",
      "199.0 161.5\n",
      "203.5 162.0\n",
      "203.5 162.0\n",
      "210.5 163.0\n",
      "210.5 163.5\n",
      "218.5 164.5\n",
      "226.5 164.0\n",
      "227.0 165.0\n",
      "236.5 166.0\n",
      "237.5 167.0\n",
      "245.0 167.5\n",
      "245.0 167.5\n",
      "251.5 168.5\n",
      "256.5 170.5\n",
      "255.5 170.5\n",
      "258.5 171.5\n",
      "258.0 171.0\n",
      "258.0 171.5\n",
      "258.0 172.0\n",
      "256.5 171.0\n",
      "250.0 169.5\n",
      "251.0 169.5\n",
      "245.0 168.5\n",
      "245.0 168.5\n",
      "238.0 168.0\n",
      "238.0 168.0\n",
      "229.5 168.0\n",
      "220.0 168.0\n",
      "220.5 167.5\n",
      "212.5 167.5\n",
      "212.5 167.0\n",
      "207.0 166.0\n",
      "206.5 166.5\n",
      "202.0 166.5\n",
      "199.0 165.5\n",
      "198.0 164.5\n",
      "198.0 164.5\n",
      "199.0 165.5\n",
      "200.0 164.5\n",
      "200.0 164.5\n",
      "204.0 164.5\n",
      "207.5 164.5\n",
      "207.0 165.0\n",
      "213.5 166.0\n",
      "215.0 166.5\n",
      "222.0 166.0\n",
      "222.5 167.0\n",
      "230.5 168.0\n",
      "239.0 169.0\n",
      "238.5 169.0\n",
      "246.0 169.5\n",
      "246.0 169.5\n",
      "252.0 170.0\n",
      "252.0 170.5\n",
      "257.0 171.0\n",
      "259.0 171.5\n",
      "258.0 171.0\n",
      "258.5 171.0\n",
      "258.5 171.0\n",
      "256.0 170.5\n",
      "256.0 170.0\n",
      "252.5 170.0\n",
      "247.0 168.5\n",
      "246.0 167.5\n",
      "239.5 167.5\n",
      "239.5 167.5\n",
      "231.0 166.5\n",
      "230.5 165.5\n",
      "222.0 165.5\n",
      "214.5 165.0\n",
      "214.5 165.0\n",
      "207.5 164.0\n",
      "207.5 164.0\n",
      "202.0 163.0\n",
      "203.5 164.0\n",
      "201.0 163.5\n",
      "198.5 162.5\n",
      "198.0 162.5\n",
      "200.0 163.5\n",
      "200.5 163.0\n",
      "203.0 163.0\n",
      "202.5 163.0\n",
      "206.0 163.0\n",
      "214.5 166.0\n",
      "215.0 166.0\n",
      "221.5 167.0\n",
      "222.0 167.0\n",
      "230.0 168.0\n",
      "230.0 168.5\n",
      "237.0 169.5\n",
      "244.5 172.0\n",
      "244.5 172.0\n",
      "249.5 173.0\n",
      "249.5 173.0\n",
      "253.5 173.5\n",
      "252.5 173.5\n",
      "255.5 174.0\n",
      "255.5 175.0\n",
      "256.5 175.5\n",
      "253.5 173.5\n",
      "253.5 173.5\n",
      "250.0 173.0\n",
      "250.0 173.0\n",
      "244.0 171.5\n",
      "238.0 170.5\n",
      "238.0 170.0\n",
      "230.5 169.5\n",
      "231.0 168.5\n",
      "223.0 168.5\n",
      "223.5 168.0\n",
      "215.5 165.5\n",
      "208.0 164.0\n",
      "207.5 164.0\n",
      "203.0 163.5\n",
      "202.5 163.5\n",
      "201.0 164.0\n",
      "200.0 162.5\n",
      "198.5 162.5\n",
      "200.0 163.5\n",
      "199.0 162.5\n",
      "202.0 163.0\n",
      "202.0 163.0\n",
      "207.0 163.5\n",
      "207.0 164.0\n",
      "214.0 164.5\n",
      "221.5 165.5\n",
      "221.5 165.5\n",
      "229.5 166.5\n",
      "229.5 167.0\n",
      "237.0 167.5\n",
      "237.5 167.5\n",
      "243.5 167.5\n",
      "248.5 168.0\n",
      "248.5 168.0\n",
      "251.0 172.0\n",
      "251.5 171.5\n",
      "253.5 177.0\n",
      "253.5 176.5\n",
      "255.0 171.5\n",
      "253.0 170.0\n"
     ]
    }
   ],
   "source": [
    "#Displaying and storing the coordinates into arrays\n",
    "x_coordinates = np.zeros((284,1))\n",
    "y_coordinates = np.zeros((284,1))\n",
    "index = 0\n",
    "while True:\n",
    "    ret,frame = v.read()\n",
    "    if not ret:\n",
    "        break\n",
    "    (success,box) = tracker.update(frame)\n",
    "    if success:\n",
    "        (x,y,w,h) = [int(a) for a in box]\n",
    "        cv.rectangle(frame,(x,y),(x+w,y+h),(250,0,250), 2)\n",
    "        x_centerCoordinate = (x+w)/2\n",
    "        y_centerCoordinate = (y+h)/2\n",
    "        print(x_centerCoordinate,y_centerCoordinate)\n",
    "        x_coordinates[index] = x_centerCoordinate\n",
    "        y_coordinates[index] = y_centerCoordinate\n",
    "    cv.imshow('Frame',frame)\n",
    "    key = cv.waitKey(30)\n",
    "    index = index+1\n",
    "    if key == ord('q'):\n",
    "        break\n",
    "\n",
    "v.release()\n",
    "cv.destroyAllWindows()"
   ]
  },
  {
   "cell_type": "code",
   "execution_count": 261,
   "id": "f5b4f594",
   "metadata": {},
   "outputs": [],
   "source": [
    "#Here we will resize our coordinate arrays so that they are an appropriate shape\n",
    "#Since the camera take with the fewest number of frames generates 225 data points, \n",
    "x_coordinates = np.resize(x_coordinates,(225,1))\n",
    "y_coordinates = np.resize(y_coordinates,(225,1))"
   ]
  },
  {
   "cell_type": "code",
   "execution_count": 262,
   "id": "1098cd46",
   "metadata": {},
   "outputs": [],
   "source": [
    "#Now we can reshape the coordinates to make them one long row\n",
    "x_coordinates = np.reshape(x_coordinates,(1,225))\n",
    "y_coordinates = np.reshape(y_coordinates,(1,225))"
   ]
  },
  {
   "cell_type": "code",
   "execution_count": 263,
   "id": "e56f1250",
   "metadata": {},
   "outputs": [
    {
     "data": {
      "text/plain": [
       "(4, 225)"
      ]
     },
     "execution_count": 263,
     "metadata": {},
     "output_type": "execute_result"
    }
   ],
   "source": [
    "np.shape(x_y_coordinateMatrix)"
   ]
  },
  {
   "cell_type": "code",
   "execution_count": 264,
   "id": "f0f78b81",
   "metadata": {},
   "outputs": [],
   "source": [
    "#x_y_coordinateMatrix.append(x_coordinates)\n",
    "x_y_coordinateMatrix = np.append(x_y_coordinateMatrix,x_coordinates,axis=0)\n",
    "#x_y_coordinateMatrix.append(y_coordinates)\n"
   ]
  },
  {
   "cell_type": "code",
   "execution_count": 265,
   "id": "57e80d48",
   "metadata": {},
   "outputs": [],
   "source": [
    "x_y_coordinateMatrix = np.append(x_y_coordinateMatrix,y_coordinates,axis=0)"
   ]
  },
  {
   "cell_type": "code",
   "execution_count": null,
   "id": "17576621",
   "metadata": {},
   "outputs": [],
   "source": []
  },
  {
   "cell_type": "code",
   "execution_count": 266,
   "id": "b3f6522e",
   "metadata": {},
   "outputs": [
    {
     "data": {
      "text/plain": [
       "(6, 225)"
      ]
     },
     "execution_count": 266,
     "metadata": {},
     "output_type": "execute_result"
    }
   ],
   "source": [
    "np.shape(x_y_coordinateMatrix)"
   ]
  },
  {
   "cell_type": "code",
   "execution_count": 267,
   "id": "9083ca3b",
   "metadata": {},
   "outputs": [
    {
     "data": {
      "text/plain": [
       "array([[207.5, 207.5, 207.5, ..., 204. , 204. , 203.5],\n",
       "       [170.5, 170.5, 170.5, ..., 219.5, 219.5, 224.5],\n",
       "       [183.5, 186. , 186. , ..., 190. , 190. , 189.5],\n",
       "       [200.5, 201.5, 196.5, ..., 131.5, 138. , 138.5],\n",
       "       [211. , 204.5, 204. , ..., 243.5, 248.5, 248.5],\n",
       "       [167.5, 166. , 166. , ..., 167.5, 168. , 168. ]])"
      ]
     },
     "execution_count": 267,
     "metadata": {},
     "output_type": "execute_result"
    }
   ],
   "source": [
    "x_y_coordinateMatrix"
   ]
  },
  {
   "cell_type": "code",
   "execution_count": 268,
   "id": "1b9133e8",
   "metadata": {},
   "outputs": [],
   "source": [
    "np.save('x_y_coordinateMatrix',x_y_coordinateMatrix)"
   ]
  },
  {
   "cell_type": "code",
   "execution_count": null,
   "id": "e8291f07",
   "metadata": {},
   "outputs": [],
   "source": [
    "plt.plot()"
   ]
  }
 ],
 "metadata": {
  "kernelspec": {
   "display_name": "Python 3 (ipykernel)",
   "language": "python",
   "name": "python3"
  },
  "language_info": {
   "codemirror_mode": {
    "name": "ipython",
    "version": 3
   },
   "file_extension": ".py",
   "mimetype": "text/x-python",
   "name": "python",
   "nbconvert_exporter": "python",
   "pygments_lexer": "ipython3",
   "version": "3.9.13"
  }
 },
 "nbformat": 4,
 "nbformat_minor": 5
}
