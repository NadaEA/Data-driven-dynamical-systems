{
 "cells": [
  {
   "cell_type": "code",
   "execution_count": 23,
   "id": "4aa13669",
   "metadata": {},
   "outputs": [],
   "source": [
    "import cv2 as cv\n",
    "import numpy as np\n",
    "from scipy import linalg\n",
    "from matplotlib import pyplot as plt"
   ]
  },
  {
   "cell_type": "code",
   "execution_count": 28,
   "id": "51dde3bd",
   "metadata": {},
   "outputs": [],
   "source": [
    "video = cv.VideoCapture(\"/Users/nadaelarabi/Data-driven-dynamical-systems/SlidingWindowDMD/catVideo.mp4\")\n",
    "\n",
    "frames = []\n",
    "ret = True\n",
    "while ret:\n",
    "    ret,img = video.read()\n",
    "    if ret:\n",
    "        greyscale = np.mean(img,-1)\n",
    "        frames.append(greyscale)\n",
    "videoData = np.stack(frames,axis=0)\n",
    "videoDataTranspose = videoData.T #Tjis is possibly unecessary?\n",
    "\n",
    "widthVideo = videoDataTranspose.shape[0]\n",
    "heightVideo = videoDataTranspose.shape[1]\n",
    "numberPixelsPerFrame = widthVideo * heightVideo\n",
    "numberOfFrames = videoDataTranspose.shape[2]\n",
    "\n",
    "#Here we can reshape the data to have each frame represented as columns stacked\n",
    "dataMat = (np.reshape(videoData,(numberOfFrames,numberPixelsPerFrame))).transpose()\n"
   ]
  },
  {
   "cell_type": "code",
   "execution_count": 29,
   "id": "71715df1",
   "metadata": {},
   "outputs": [
    {
     "data": {
      "text/plain": [
       "(230400, 160)"
      ]
     },
     "execution_count": 29,
     "metadata": {},
     "output_type": "execute_result"
    }
   ],
   "source": [
    "dataMat.shape"
   ]
  },
  {
   "cell_type": "code",
   "execution_count": 30,
   "id": "be07c398",
   "metadata": {},
   "outputs": [],
   "source": [
    "#We create the Windows\n",
    "\n",
    "#T refers to the size of each window\n",
    "T = 120\n",
    "numberOfWindows = numberOfFrames - T\n",
    "\n",
    "#This matrix will contain the Windows\n",
    "matrixWindows = []\n",
    "for i in range(numberOfWindows):\n",
    "    matrixWindows.append(dataMat[:,i:i+T])\n",
    "matrixWindows = np.array(matrixWindows)\n",
    "\n",
    "#Now we can make matrices to contain the values of the SVD decomposition\n",
    "u_matrix = []\n",
    "vt_matrix = []\n",
    "sigma_matrix = []\n",
    "\n",
    "#Here we calculate the SVD of each of the Windows \n",
    "for i in range(numberOfWindows):\n",
    "    u,s,vt = np.linalg.svd(matrixWindows[i],full_matrices=False)\n",
    "    u_matrix.append(u)\n",
    "    vt_matrix.append(vt)\n",
    "    sigma_matrix.append(s)\n",
    "\n",
    "u_matrix = np.array(u_matrix)\n",
    "vt_matrix = np.array(vt_matrix)\n",
    "sigma_matrix = np.array(sigma_matrix)\n"
   ]
  },
  {
   "cell_type": "code",
   "execution_count": 31,
   "id": "c7ccfa39",
   "metadata": {},
   "outputs": [],
   "source": [
    "#Now that we have the SVD for each Window, we can find the number of significant modes for each\n",
    "\n",
    "#Question: do the DMD matrices A^k have to all be the same size? Why does the book say they would have N eigenvalues?\n",
    "#Answer: They should preferrably be the same size to make analysis easier\n",
    "\n",
    "\n",
    "significant_singularVal_Matrix = []\n",
    "tau_matrix = []\n",
    "nbRowsWindow = numberPixelsPerFrame\n",
    "nbColumnsWindow = matrixWindows.shape[2]\n",
    "beta = 1-(nbColumnsWindow/nbRowsWindow)\n",
    "omega = 0.56*(beta*beta*beta) - 0.95*(beta*beta) + 1.82*beta + 1.43\n",
    "\n",
    "for i in range(numberOfWindows):\n",
    "    median = np.median(sigma_matrix[i])\n",
    "    tau = omega * median\n",
    "    tau_matrix.append(tau)\n",
    "    counter = 0\n",
    "    j =0\n",
    "    while tau<sigma_matrix[i][j]:\n",
    "        j += 1\n",
    "        counter += 1\n",
    "    significant_singularVal_Matrix.append(counter)\n"
   ]
  },
  {
   "cell_type": "code",
   "execution_count": 32,
   "id": "10d63cd2",
   "metadata": {},
   "outputs": [],
   "source": [
    "#We've only defined the tau matrix to do some manual verification\n",
    "\n",
    "significant_singularVal_Matrix = np.array(significant_singularVal_Matrix)\n",
    "tau_matrix = np.array(tau_matrix)\n",
    "\n",
    "#Now we should determine how many significant values we should keep for all DMD matrices\n",
    "#One approach would be to take the maximum:\n",
    "\n",
    "nbSingularValues = np.max(significant_singularVal_Matrix)\n",
    "nbSingularValues\n",
    "\n",
    "#Now we can apply the DMD algorithm to every window\n",
    "\n",
    "#Here we reduce our u_matrix depending on the selected number of singular values\n",
    "u_reduced = []\n",
    "for i in range(numberOfWindows):\n",
    "    u_reduced.append(u_matrix[i][:,0:nbSingularValues])\n",
    "u_reduced = np.array(u_reduced)"
   ]
  },
  {
   "cell_type": "code",
   "execution_count": 33,
   "id": "8d8a1835",
   "metadata": {},
   "outputs": [],
   "source": [
    "data_reduced = []\n",
    "for i in range(numberOfWindows):\n",
    "    data_reduced.append(np.matmul(u_reduced[i].T,matrixWindows[i]))\n",
    "data_reduced = np.array(data_reduced)"
   ]
  },
  {
   "cell_type": "code",
   "execution_count": 34,
   "id": "0f5156b8",
   "metadata": {},
   "outputs": [],
   "source": [
    "#Now we can create our X and Y matrices \n",
    "n = data_reduced[0].shape[1]\n",
    "X_matrix = []\n",
    "Y_matrix = []\n",
    "for i in range(numberOfWindows):\n",
    "    X_matrix.append(data_reduced[i][:,0:n-1])\n",
    "    Y_matrix.append(data_reduced[i][:,1:n])\n",
    "X_matrix = np.array(X_matrix)\n",
    "Y_matrix = np.array(Y_matrix)"
   ]
  },
  {
   "cell_type": "code",
   "execution_count": 35,
   "id": "9886fb41",
   "metadata": {},
   "outputs": [],
   "source": [
    "#Now we can calculate the transpose of each X:\n",
    "Xt_matrix = []\n",
    "for i in range(numberOfWindows):\n",
    "    Xt_matrix.append(np.linalg.pinv(X_matrix[i]))\n",
    "Xt_matrix = np.array(Xt_matrix)\n",
    "\n",
    "#We proceed to finding the DMD matrices\n",
    "DMD_matrices = []\n",
    "for i in range(numberOfWindows):\n",
    "    DMD_matrices.append(np.matmul(Y_matrix[i],Xt_matrix[i]))\n",
    "DMD_matrices = np.array(DMD_matrices)"
   ]
  },
  {
   "cell_type": "code",
   "execution_count": 36,
   "id": "855e5f90",
   "metadata": {},
   "outputs": [],
   "source": [
    "#Now we can extract all eigenvalues and eigenvectors from the DMD matrices\n",
    "eigenvalues_matrix = []\n",
    "eigenvector_matrix = []\n",
    "for i in range(numberOfWindows):\n",
    "    eigenvalues, eigenvectors = np.linalg.eig(DMD_matrices[i])\n",
    "    eigenvalues_matrix.append(eigenvalues)\n",
    "    eigenvector_matrix.append(eigenvectors)\n",
    "eigenvalues_matrix = np.array(eigenvalues_matrix)\n",
    "eigenvector_matrix = np.array(eigenvector_matrix)"
   ]
  },
  {
   "cell_type": "code",
   "execution_count": 37,
   "id": "f78e0952",
   "metadata": {},
   "outputs": [],
   "source": [
    "# reals = eigenvalues_matrix[80].real\n",
    "# imagin = eigenvalues_matrix[80].imag\n",
    "# plt.plot(reals,imagin,'g*') #where I divided by 6/379\n",
    "# plt.ylabel('Imaginary')\n",
    "# plt.xlabel('Real')\n",
    "# plt.title(\"Plot of Discrete Time step Eigenvalues $\\mu$\",fontsize=10)\n",
    "# plt.show()"
   ]
  },
  {
   "cell_type": "code",
   "execution_count": 38,
   "id": "6461ac20",
   "metadata": {},
   "outputs": [
    {
     "data": {
      "text/plain": [
       "<matplotlib.collections.PathCollection at 0x7f9f486fc610>"
      ]
     },
     "execution_count": 38,
     "metadata": {},
     "output_type": "execute_result"
    },
    {
     "data": {
      "image/png": "[encoded data removed]",
      "text/plain": [
       "<Figure size 500x500 with 1 Axes>"
      ]
     },
     "metadata": {},
     "output_type": "display_data"
    }
   ],
   "source": [
    "omega = [] # set of transformed eigenvalues \n",
    "dt =6/numberOfFrames\n",
    "\n",
    "for i in range(numberOfWindows):\n",
    "    omega_log = np.log(eigenvalues_matrix[i])/dt\n",
    "    omega.append(omega_log)\n",
    "omega = np.array(omega)\n",
    "\n",
    "# for eigenvalue in eigenvalues:\n",
    "#   omegak = np.log(eigenvalue)/dt\n",
    "#   omega.append(omegak)\n",
    "\n",
    "# omega = np.array(omega)\n",
    "\n",
    "\n",
    "# We can plot the continuous time eigenvalues \n",
    "plt.figure(figsize=(5,5))\n",
    "plt.xlabel(\"Real\")\n",
    "plt.ylabel(\"Imaginary\")\n",
    "plt.title(\"Plot of Continuous Time Eigenvalues $\\omega$\",fontsize=10)\n",
    "plt.scatter((omega[5]).real,(omega[5]).imag)"
   ]
  },
  {
   "cell_type": "code",
   "execution_count": 39,
   "id": "6b943e18",
   "metadata": {},
   "outputs": [],
   "source": [
    "#Let's try and see if we get a proper separation\n",
    "\n",
    "#First let's take the absolute value of all eigenvalues and square them \n",
    "\n",
    "for i in range(numberOfWindows):\n",
    "    omega[i] = np.absolute(omega[i])\n",
    "    omega[i] = np.square(omega[i])\n",
    "\n",
    "#Now we concatenate all eigenvalues in a single vector\n",
    "array_nbColumns = numberOfWindows*omega[0].shape[0]\n",
    "# concatenated_eigenvalues = np.zeros((1,array_nbColumns))\n",
    "# position = 0\n",
    "# for i in range(numberOfWindows):\n",
    "#     concatenated_eigenvalues[:,position:i+nbSingularValues] = omega[i]\n",
    "#     position = i*nbSingularValues\n",
    "\n",
    "#Maybe just reshape the omega vector\n",
    "\n",
    "concatenated_eigenvalues = np.reshape(omega,(array_nbColumns,1))"
   ]
  },
  {
   "cell_type": "code",
   "execution_count": 40,
   "id": "867ef144",
   "metadata": {},
   "outputs": [
    {
     "data": {
      "text/plain": [
       "600"
      ]
     },
     "execution_count": 40,
     "metadata": {},
     "output_type": "execute_result"
    }
   ],
   "source": [
    "array_nbColumns"
   ]
  },
  {
   "cell_type": "code",
   "execution_count": 41,
   "id": "85df0ce0",
   "metadata": {},
   "outputs": [
    {
     "data": {
      "text/plain": [
       "<matplotlib.collections.PathCollection at 0x7f9f380a1f40>"
      ]
     },
     "execution_count": 41,
     "metadata": {},
     "output_type": "execute_result"
    },
    {
     "data": {
      "image/png": "[encoded data removed]",
      "text/plain": [
       "<Figure size 900x600 with 1 Axes>"
      ]
     },
     "metadata": {},
     "output_type": "display_data"
    }
   ],
   "source": [
    "x_axis = np.linspace(0,numberOfWindows,array_nbColumns)\n",
    "plt.figure(figsize=(9,6))\n",
    "plt.xlabel(\"Window\")\n",
    "plt.ylabel(\"$\\omega$-eigenvalue\")\n",
    "plt.title(\"Graph of Eigenvalues in Sliding-Window \",fontsize=10)\n",
    "plt.scatter(x_axis,concatenated_eigenvalues.real)"
   ]
  },
  {
   "cell_type": "code",
   "execution_count": 42,
   "id": "4c57c61d",
   "metadata": {},
   "outputs": [],
   "source": [
    "concatenated_eigenvalues = np.real(concatenated_eigenvalues)"
   ]
  },
  {
   "cell_type": "code",
   "execution_count": 43,
   "id": "bbf5bb4e",
   "metadata": {},
   "outputs": [],
   "source": [
    "from sklearn.cluster import KMeans\n",
    "kmeans = KMeans(n_clusters=2, random_state=0).fit(concatenated_eigenvalues)"
   ]
  },
  {
   "cell_type": "code",
   "execution_count": 44,
   "id": "abeab371",
   "metadata": {},
   "outputs": [
    {
     "data": {
      "text/plain": [
       "array([[ 24.53622769],\n",
       "       [184.90887867]])"
      ]
     },
     "execution_count": 44,
     "metadata": {},
     "output_type": "execute_result"
    }
   ],
   "source": [
    "kmeans.cluster_centers_"
   ]
  },
  {
   "cell_type": "code",
   "execution_count": null,
   "id": "0e4db714",
   "metadata": {},
   "outputs": [],
   "source": []
  }
 ],
 "metadata": {
  "kernelspec": {
   "display_name": "Python 3 (ipykernel)",
   "language": "python",
   "name": "python3"
  },
  "language_info": {
   "codemirror_mode": {
    "name": "ipython",
    "version": 3
   },
   "file_extension": ".py",
   "mimetype": "text/x-python",
   "name": "python",
   "nbconvert_exporter": "python",
   "pygments_lexer": "ipython3",
   "version": "3.9.13"
  }
 },
 "nbformat": 4,
 "nbformat_minor": 5
}
