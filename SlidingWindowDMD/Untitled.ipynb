{
 "cells": [
  {
   "cell_type": "code",
   "execution_count": 1,
   "id": "d8972531",
   "metadata": {},
   "outputs": [],
   "source": [
    "import cv2 as cv\n",
    "import numpy as np\n",
    "from scipy import linalg\n",
    "from matplotlib import pyplot as plt"
   ]
  },
  {
   "cell_type": "code",
   "execution_count": 2,
   "id": "0080ac21",
   "metadata": {},
   "outputs": [],
   "source": [
    "video = cv.VideoCapture(\"/Users/nadaelarabi/Data-driven-dynamical-systems/SlidingWindowDMD/catVideo.mp4\")\n",
    "\n",
    "frames = []\n",
    "ret = True\n",
    "while ret:\n",
    "    ret,img = video.read()\n",
    "    if ret:\n",
    "        greyscale = np.mean(img,-1)\n",
    "        frames.append(greyscale)\n",
    "videoData = np.stack(frames,axis=0)\n",
    "videoDataTranspose = videoData.T #Tjis is possibly unecessary?\n",
    "\n",
    "widthVideo = videoDataTranspose.shape[0]\n",
    "heightVideo = videoDataTranspose.shape[1]\n",
    "numberPixelsPerFrame = widthVideo * heightVideo\n",
    "numberOfFrames = videoDataTranspose.shape[2]\n",
    "\n",
    "#Here we can reshape the data to have each frame represented as columns stacked\n",
    "dataMat = (np.reshape(videoData,(numberOfFrames,numberPixelsPerFrame))).transpose()\n"
   ]
  },
  {
   "cell_type": "code",
   "execution_count": 3,
   "id": "19ad74fc",
   "metadata": {},
   "outputs": [
    {
     "data": {
      "text/plain": [
       "(230400, 160)"
      ]
     },
     "execution_count": 3,
     "metadata": {},
     "output_type": "execute_result"
    }
   ],
   "source": [
    "dataMat.shape"
   ]
  },
  {
   "cell_type": "code",
   "execution_count": 4,
   "id": "1304ca4f",
   "metadata": {},
   "outputs": [],
   "source": [
    "#We create the Windows\n",
    "\n",
    "#T refers to the size of each window\n",
    "T = 60\n",
    "numberOfWindows = numberOfFrames - T\n",
    "\n",
    "#This matrix will contain the Windows\n",
    "matrixWindows = []\n",
    "for i in range(numberOfWindows):\n",
    "    matrixWindows.append(dataMat[:,i:i+T])\n",
    "matrixWindows = np.array(matrixWindows)\n",
    "\n",
    "#Now we can make matrices to contain the values of the SVD decomposition\n",
    "u_matrix = []\n",
    "vt_matrix = []\n",
    "sigma_matrix = []\n",
    "\n",
    "#Here we calculate the SVD of each of the Windows \n",
    "for i in range(numberOfWindows):\n",
    "    u,s,vt = np.linalg.svd(matrixWindows[i],full_matrices=False)\n",
    "    u_matrix.append(u)\n",
    "    vt_matrix.append(vt)\n",
    "    sigma_matrix.append(s)\n",
    "\n",
    "u_matrix = np.array(u_matrix)\n",
    "vt_matrix = np.array(vt_matrix)\n",
    "sigma_matrix = np.array(sigma_matrix)\n"
   ]
  },
  {
   "cell_type": "code",
   "execution_count": 5,
   "id": "95a39fa4",
   "metadata": {},
   "outputs": [
    {
     "data": {
      "text/plain": [
       "(230400, 60)"
      ]
     },
     "execution_count": 5,
     "metadata": {},
     "output_type": "execute_result"
    }
   ],
   "source": [
    "u_matrix[0].shape"
   ]
  },
  {
   "cell_type": "code",
   "execution_count": 6,
   "id": "1c1c95dc",
   "metadata": {},
   "outputs": [
    {
     "data": {
      "text/plain": [
       "63956.795120146046"
      ]
     },
     "execution_count": 6,
     "metadata": {},
     "output_type": "execute_result"
    }
   ],
   "source": [
    "sigma_matrix[0][1]"
   ]
  },
  {
   "cell_type": "code",
   "execution_count": 7,
   "id": "6e25f229",
   "metadata": {},
   "outputs": [],
   "source": [
    "#Now that we have the SVD for each Window, we can find the number of significant modes for each\n",
    "\n",
    "#Question: do the DMD matrices A^k have to all be the same size? Why does the book say they would have N eigenvalues?\n",
    "#Answer: They should preferrably be the same size to make analysis easier\n",
    "\n",
    "\n",
    "significant_singularVal_Matrix = []\n",
    "tau_matrix = []\n",
    "nbRowsWindow = numberPixelsPerFrame\n",
    "nbColumnsWindow = matrixWindows.shape[2]\n",
    "beta = 1-(nbColumnsWindow/nbRowsWindow)\n",
    "omega = 0.56*(beta*beta*beta) - 0.95*(beta*beta) + 1.82*beta + 1.43\n",
    "\n",
    "for i in range(numberOfWindows):\n",
    "    median = np.median(sigma_matrix[i])\n",
    "    tau = omega * median\n",
    "    tau_matrix.append(tau)\n",
    "    counter = 0\n",
    "    j =0\n",
    "    while tau<sigma_matrix[i][j]:\n",
    "        j += 1\n",
    "        counter += 1\n",
    "    significant_singularVal_Matrix.append(counter)\n",
    "\n"
   ]
  },
  {
   "cell_type": "code",
   "execution_count": 8,
   "id": "97d77d93",
   "metadata": {},
   "outputs": [],
   "source": [
    "#We've only defined the tau matrix to do some manual verification\n",
    "\n",
    "significant_singularVal_Matrix = np.array(significant_singularVal_Matrix)\n",
    "tau_matrix = np.array(tau_matrix)\n",
    "\n",
    "#Now we should determine how many significant values we should keep for all DMD matrices\n",
    "#One approach would be to take the maximum:\n",
    "\n",
    "nbSingularValues = np.max(significant_singularVal_Matrix)\n",
    "nbSingularValues\n",
    "\n",
    "#Now we can apply the DMD algorithm to every window\n",
    "\n",
    "#Here we reduce our u_matrix depending on the selected number of singular values\n",
    "u_reduced = []\n",
    "for i in range(numberOfWindows):\n",
    "    u_reduced.append(u_matrix[i][:,0:nbSingularValues])\n",
    "u_reduced = np.array(u_reduced)"
   ]
  },
  {
   "cell_type": "code",
   "execution_count": 41,
   "id": "2e5d922d",
   "metadata": {},
   "outputs": [
    {
     "data": {
      "text/plain": [
       "(230400, 60)"
      ]
     },
     "execution_count": 41,
     "metadata": {},
     "output_type": "execute_result"
    }
   ],
   "source": [
    "u_matrix[0].shape"
   ]
  },
  {
   "cell_type": "code",
   "execution_count": 11,
   "id": "b26d05f6",
   "metadata": {},
   "outputs": [
    {
     "data": {
      "text/plain": [
       "(230400, 22)"
      ]
     },
     "execution_count": 11,
     "metadata": {},
     "output_type": "execute_result"
    }
   ],
   "source": [
    "u_reduced[0].shape"
   ]
  },
  {
   "cell_type": "code",
   "execution_count": 13,
   "id": "7f491143",
   "metadata": {},
   "outputs": [
    {
     "data": {
      "text/plain": [
       "(230400, 60)"
      ]
     },
     "execution_count": 13,
     "metadata": {},
     "output_type": "execute_result"
    }
   ],
   "source": [
    "matrixWindows[0].shape"
   ]
  },
  {
   "cell_type": "code",
   "execution_count": 9,
   "id": "ac20bc36",
   "metadata": {},
   "outputs": [],
   "source": [
    "#Now let's reduce our data\n",
    "data_reduced = []\n",
    "for i in range(numberOfWindows):\n",
    "    data_reduced.append(np.matmul(u_reduced[i].T,matrixWindows[i]))\n",
    "data_reduced = np.array(data_reduced)"
   ]
  },
  {
   "cell_type": "code",
   "execution_count": 10,
   "id": "bda4f27d",
   "metadata": {},
   "outputs": [],
   "source": [
    "#Now we can create our X and Y matrices \n",
    "n = data_reduced[0].shape[1]\n",
    "X_matrix = []\n",
    "Y_matrix = []\n",
    "for i in range(numberOfWindows):\n",
    "    X_matrix.append(data_reduced[i][:,0:n-1])\n",
    "    Y_matrix.append(data_reduced[i][:,1:n])\n",
    "X_matrix = np.array(X_matrix)\n",
    "Y_matrix = np.array(Y_matrix)"
   ]
  },
  {
   "cell_type": "code",
   "execution_count": 11,
   "id": "2e29a59f",
   "metadata": {},
   "outputs": [],
   "source": [
    "#Now we can calculate the transpose of each X:\n",
    "Xt_matrix = []\n",
    "for i in range(numberOfWindows):\n",
    "    Xt_matrix.append(np.linalg.pinv(X_matrix[i]))\n",
    "Xt_matrix = np.array(Xt_matrix)\n",
    "\n",
    "#We proceed to finding the DMD matrices\n",
    "DMD_matrices = []\n",
    "for i in range(numberOfWindows):\n",
    "    DMD_matrices.append(np.matmul(Y_matrix[i],Xt_matrix[i]))\n",
    "DMD_matrices = np.array(DMD_matrices)"
   ]
  },
  {
   "cell_type": "code",
   "execution_count": 38,
   "id": "39922c9e",
   "metadata": {},
   "outputs": [
    {
     "data": {
      "text/plain": [
       "(100, 22, 22)"
      ]
     },
     "execution_count": 38,
     "metadata": {},
     "output_type": "execute_result"
    }
   ],
   "source": [
    "DMD_matrices.shape"
   ]
  },
  {
   "cell_type": "code",
   "execution_count": 32,
   "id": "fcdbc001",
   "metadata": {},
   "outputs": [
    {
     "data": {
      "text/plain": [
       "(22, 59)"
      ]
     },
     "execution_count": 32,
     "metadata": {},
     "output_type": "execute_result"
    }
   ],
   "source": [
    "X_matrix[i].shape"
   ]
  },
  {
   "cell_type": "code",
   "execution_count": 25,
   "id": "48e2db12",
   "metadata": {},
   "outputs": [
    {
     "data": {
      "text/plain": [
       "(100, 22, 60)"
      ]
     },
     "execution_count": 25,
     "metadata": {},
     "output_type": "execute_result"
    }
   ],
   "source": [
    "X.shape"
   ]
  },
  {
   "cell_type": "code",
   "execution_count": 12,
   "id": "f5e34d0e",
   "metadata": {},
   "outputs": [],
   "source": [
    "#Now we can extract all eigenvalues and eigenvectors from the DMD matrices\n",
    "eigenvalues_matrix = []\n",
    "eigenvector_matrix = []\n",
    "for i in range(numberOfWindows):\n",
    "    eigenvalues, eigenvectors = np.linalg.eig(DMD_matrices[i])\n",
    "    eigenvalues_matrix.append(eigenvalues)\n",
    "    eigenvector_matrix.append(eigenvectors)\n",
    "eigenvalues_matrix = np.array(eigenvalues_matrix)\n",
    "eigenvector_matrix = np.array(eigenvector_matrix)"
   ]
  },
  {
   "cell_type": "code",
   "execution_count": 43,
   "id": "8359401c",
   "metadata": {},
   "outputs": [
    {
     "data": {
      "text/plain": [
       "(100, 22, 22)"
      ]
     },
     "execution_count": 43,
     "metadata": {},
     "output_type": "execute_result"
    }
   ],
   "source": [
    "eigenvector_matrix.shape"
   ]
  },
  {
   "cell_type": "code",
   "execution_count": 13,
   "id": "0b064de4",
   "metadata": {},
   "outputs": [
    {
     "data": {
      "image/png": "[encoded data removed]",
      "text/plain": [
       "<Figure size 640x480 with 1 Axes>"
      ]
     },
     "metadata": {},
     "output_type": "display_data"
    }
   ],
   "source": [
    "reals = eigenvalues_matrix[80].real\n",
    "imagin = eigenvalues_matrix[80].imag\n",
    "plt.plot(reals,imagin,'g*') #where I divided by 6/379\n",
    "plt.ylabel('Imaginary')\n",
    "plt.xlabel('Real')\n",
    "plt.title(\"Plot of Discrete Time step Eigenvalues $\\mu$\",fontsize=10)\n",
    "plt.show()"
   ]
  },
  {
   "cell_type": "code",
   "execution_count": 14,
   "id": "e07c449f",
   "metadata": {},
   "outputs": [
    {
     "data": {
      "text/plain": [
       "<matplotlib.collections.PathCollection at 0x7fc81825ed60>"
      ]
     },
     "execution_count": 14,
     "metadata": {},
     "output_type": "execute_result"
    },
    {
     "data": {
      "image/png": "[encoded data removed]",
      "text/plain": [
       "<Figure size 500x500 with 1 Axes>"
      ]
     },
     "metadata": {},
     "output_type": "display_data"
    }
   ],
   "source": [
    "omega = [] # set of transformed eigenvalues \n",
    "dt =6/numberOfFrames\n",
    "\n",
    "for i in range(numberOfWindows):\n",
    "    omega_log = np.log(eigenvalues_matrix[i])/dt\n",
    "    omega.append(omega_log)\n",
    "omega = np.array(omega)\n",
    "\n",
    "# for eigenvalue in eigenvalues:\n",
    "#   omegak = np.log(eigenvalue)/dt\n",
    "#   omega.append(omegak)\n",
    "\n",
    "# omega = np.array(omega)\n",
    "\n",
    "\n",
    "# We can plot the continuous time eigenvalues \n",
    "plt.figure(figsize=(5,5))\n",
    "plt.xlabel(\"Real\")\n",
    "plt.ylabel(\"Imaginary\")\n",
    "plt.title(\"Plot of Continuous Time Eigenvalues $\\omega$\",fontsize=10)\n",
    "plt.scatter((omega[5]).real,(omega[5]).imag)"
   ]
  },
  {
   "cell_type": "code",
   "execution_count": 15,
   "id": "aa63d756",
   "metadata": {},
   "outputs": [],
   "source": [
    "#Let's try and see if we get a proper separation\n",
    "\n",
    "#First let's take the absolute value of all eigenvalues and square them \n",
    "\n",
    "for i in range(numberOfWindows):\n",
    "    omega[i] = np.absolute(omega[i])\n",
    "    omega[i] = np.square(omega[i])\n",
    "\n",
    "#Now we concatenate all eigenvalues in a single vector\n",
    "array_nbColumns = numberOfWindows*omega[0].shape[0]\n",
    "# concatenated_eigenvalues = np.zeros((1,array_nbColumns))\n",
    "# position = 0\n",
    "# for i in range(numberOfWindows):\n",
    "#     concatenated_eigenvalues[:,position:i+nbSingularValues] = omega[i]\n",
    "#     position = i*nbSingularValues\n",
    "\n",
    "#Maybe just reshape the omega vector\n",
    "\n",
    "concatenated_eigenvalues = np.reshape(omega,(array_nbColumns,1))"
   ]
  },
  {
   "cell_type": "code",
   "execution_count": 64,
   "id": "ab525096",
   "metadata": {},
   "outputs": [
    {
     "data": {
      "text/plain": [
       "array([[7040.97012566+0.j, 4904.05343359+0.j, 4904.05343359+0.j, ...,\n",
       "          10.23791397+0.j,   33.01748157+0.j,   33.01748157+0.j],\n",
       "       [7028.84011905+0.j, 4979.89028825+0.j, 4979.89028825+0.j, ...,\n",
       "         215.38821945+0.j,  399.38892253+0.j,  399.38892253+0.j],\n",
       "       [7031.54261058+0.j, 4921.91218658+0.j, 4921.91218658+0.j, ...,\n",
       "         204.41886606+0.j,  353.84996097+0.j,  353.84996097+0.j],\n",
       "       ...,\n",
       "       [7047.21556248+0.j, 4440.63290992+0.j, 4440.63290992+0.j, ...,\n",
       "          21.99372952+0.j,   68.58575945+0.j,   68.58575945+0.j],\n",
       "       [5594.13629162+0.j, 5594.13629162+0.j, 4065.07074396+0.j, ...,\n",
       "          19.30951108+0.j,   60.67294374+0.j,   60.67294374+0.j],\n",
       "       [7048.22457146+0.j, 4045.49280879+0.j, 4045.49280879+0.j, ...,\n",
       "          36.9585526 +0.j,  102.85034737+0.j,  102.85034737+0.j]])"
      ]
     },
     "execution_count": 64,
     "metadata": {},
     "output_type": "execute_result"
    }
   ],
   "source": []
  },
  {
   "cell_type": "code",
   "execution_count": 109,
   "id": "99af4f22",
   "metadata": {},
   "outputs": [
    {
     "data": {
      "text/plain": [
       "(1, 2200)"
      ]
     },
     "execution_count": 109,
     "metadata": {},
     "output_type": "execute_result"
    }
   ],
   "source": [
    "concatenated_eigenvalues.shape"
   ]
  },
  {
   "cell_type": "code",
   "execution_count": 77,
   "id": "192b201b",
   "metadata": {},
   "outputs": [
    {
     "data": {
      "text/plain": [
       "22"
      ]
     },
     "execution_count": 77,
     "metadata": {},
     "output_type": "execute_result"
    }
   ],
   "source": [
    "omega[0].shape[0]"
   ]
  },
  {
   "cell_type": "code",
   "execution_count": 91,
   "id": "8ba0233c",
   "metadata": {},
   "outputs": [
    {
     "data": {
      "text/plain": [
       "2200"
      ]
     },
     "execution_count": 91,
     "metadata": {},
     "output_type": "execute_result"
    }
   ],
   "source": [
    "array_nbColumns"
   ]
  },
  {
   "cell_type": "code",
   "execution_count": 16,
   "id": "06b7be56",
   "metadata": {},
   "outputs": [
    {
     "data": {
      "text/plain": [
       "array([[7040.97012566+0.j],\n",
       "       [4904.05343359+0.j],\n",
       "       [4904.05343359+0.j],\n",
       "       ...,\n",
       "       [  36.9585526 +0.j],\n",
       "       [ 102.85034737+0.j],\n",
       "       [ 102.85034737+0.j]])"
      ]
     },
     "execution_count": 16,
     "metadata": {},
     "output_type": "execute_result"
    }
   ],
   "source": [
    "concatenated_eigenvalues"
   ]
  },
  {
   "cell_type": "code",
   "execution_count": 111,
   "id": "90ddd0e6",
   "metadata": {},
   "outputs": [
    {
     "data": {
      "text/plain": [
       "array([[ True,  True,  True,  True,  True,  True,  True,  True,  True,\n",
       "         True,  True,  True,  True,  True,  True,  True,  True,  True,\n",
       "         True,  True,  True,  True]])"
      ]
     },
     "execution_count": 111,
     "metadata": {},
     "output_type": "execute_result"
    }
   ],
   "source": []
  },
  {
   "cell_type": "code",
   "execution_count": 106,
   "id": "493c8520",
   "metadata": {},
   "outputs": [
    {
     "data": {
      "text/plain": [
       "(22,)"
      ]
     },
     "execution_count": 106,
     "metadata": {},
     "output_type": "execute_result"
    }
   ],
   "source": [
    "omega[0].shape"
   ]
  },
  {
   "cell_type": "code",
   "execution_count": 115,
   "id": "38f795c2",
   "metadata": {},
   "outputs": [],
   "source": [
    "x_axis = np.linspace(0,100,2200)"
   ]
  },
  {
   "cell_type": "code",
   "execution_count": 17,
   "id": "1d52ac0f",
   "metadata": {},
   "outputs": [
    {
     "data": {
      "text/plain": [
       "<matplotlib.collections.PathCollection at 0x7fc85933ce20>"
      ]
     },
     "execution_count": 17,
     "metadata": {},
     "output_type": "execute_result"
    },
    {
     "data": {
      "image/png": "[encoded data removed]",
      "text/plain": [
       "<Figure size 900x600 with 1 Axes>"
      ]
     },
     "metadata": {},
     "output_type": "display_data"
    }
   ],
   "source": [
    "x_axis = np.linspace(0,100,2200)\n",
    "plt.figure(figsize=(9,6))\n",
    "plt.xlabel(\"Window\")\n",
    "plt.ylabel(\"$\\omega$-eigenvalue\")\n",
    "plt.title(\"Graph of Eigenvalues in Sliding-Window \",fontsize=10)\n",
    "plt.scatter(x_axis,concatenated_eigenvalues.real)"
   ]
  },
  {
   "cell_type": "code",
   "execution_count": 19,
   "id": "09d28759",
   "metadata": {},
   "outputs": [],
   "source": [
    "from sklearn.cluster import KMeans"
   ]
  },
  {
   "cell_type": "code",
   "execution_count": 20,
   "id": "604773be",
   "metadata": {},
   "outputs": [
    {
     "data": {
      "text/plain": [
       "array([[ 542.96939031],\n",
       "       [5400.79655477]])"
      ]
     },
     "execution_count": 20,
     "metadata": {},
     "output_type": "execute_result"
    }
   ],
   "source": [
    "concatenated_eigenvalues = np.real(concatenated_eigenvalues)\n",
    "kmeans = KMeans(n_clusters=2, random_state=0).fit(concatenated_eigenvalues)\n",
    "kmeans.cluster_centers_"
   ]
  },
  {
   "cell_type": "code",
   "execution_count": null,
   "id": "c0398bc5",
   "metadata": {},
   "outputs": [],
   "source": []
  }
 ],
 "metadata": {
  "kernelspec": {
   "display_name": "Python 3 (ipykernel)",
   "language": "python",
   "name": "python3"
  },
  "language_info": {
   "codemirror_mode": {
    "name": "ipython",
    "version": 3
   },
   "file_extension": ".py",
   "mimetype": "text/x-python",
   "name": "python",
   "nbconvert_exporter": "python",
   "pygments_lexer": "ipython3",
   "version": "3.9.13"
  }
 },
 "nbformat": 4,
 "nbformat_minor": 5
}
