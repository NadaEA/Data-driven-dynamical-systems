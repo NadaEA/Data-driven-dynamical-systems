{
 "cells": [
  {
   "cell_type": "code",
   "execution_count": 1,
   "id": "7b7a61e3",
   "metadata": {},
   "outputs": [],
   "source": [
    "#!conda install numpy"
   ]
  },
  {
   "cell_type": "code",
   "execution_count": 2,
   "id": "2587c9c2",
   "metadata": {},
   "outputs": [],
   "source": [
    "import os \n",
    "os.environ['KMP_DUPLICATE_LIB_OK']='True'\n",
    "import cv2 as cv\n",
    "import numpy as np\n",
    "from scipy import linalg"
   ]
  },
  {
   "cell_type": "code",
   "execution_count": 3,
   "id": "1a3e91f1",
   "metadata": {},
   "outputs": [
    {
     "name": "stdout",
     "output_type": "stream",
     "text": [
      "4.7.0\n"
     ]
    }
   ],
   "source": [
    "print(cv.__version__)\n"
   ]
  },
  {
   "cell_type": "code",
   "execution_count": 4,
   "id": "dc7711e3",
   "metadata": {},
   "outputs": [
    {
     "name": "stdout",
     "output_type": "stream",
     "text": [
      "379\n",
      "This is the width of the video: 960.0and the height of the video is: 540.0\n"
     ]
    }
   ],
   "source": [
    "video = cv.VideoCapture(\"/Users/nadaelarabi/PythonFiles/montecarlolow.mp4\")\n",
    "\n",
    "#We determine the length of the video\n",
    "length = int(video.get(cv.CAP_PROP_FRAME_COUNT))\n",
    "print(length)\n",
    "\n",
    "# 3 and 4 are just codes to retrieve the heights and widths of videos \n",
    "width = video.get(3)\n",
    "width = str(width)\n",
    "\n",
    "height = video.get(4)\n",
    "height = str(height)\n",
    "print(\"This is the width of the video: \"+width+ \"and the height of the video is: \"+ height)\n",
    "\n",
    "#Now we create a 2D numpy array to store the \n",
    "array2D = np.empty((518400,379), np.dtype(\"uint8\"))\n",
    "array2D.shape = [518400,379]\n",
    "counter =0"
   ]
  },
  {
   "cell_type": "code",
   "execution_count": 5,
   "id": "b0dab1d1",
   "metadata": {},
   "outputs": [],
   "source": [
    "# ret, img = video.read()\n",
    "# img = cv.cvtColor(img, cv.COLOR_BGR2GRAY)\n",
    "# img = cv.Mat(img.reshape(1,518400))\n",
    "# img = img.transpose()\n",
    "# col = np.asarray(img[:,:])"
   ]
  },
  {
   "cell_type": "code",
   "execution_count": 6,
   "id": "773a276c",
   "metadata": {},
   "outputs": [],
   "source": [
    "# col"
   ]
  },
  {
   "cell_type": "code",
   "execution_count": 9,
   "id": "aadf823b",
   "metadata": {},
   "outputs": [
    {
     "name": "stdout",
     "output_type": "stream",
     "text": [
      "Found last frame!\n",
      "379\n"
     ]
    }
   ],
   "source": [
    "\n",
    "for frameidx in range(389):\n",
    "    #We read the frames in the video\n",
    "        ret, frame = video.read()\n",
    "        if (ret != True):\n",
    "            print(\"Found last frame!\")\n",
    "            break\n",
    "        \n",
    "        #This function translates the video into a greyscale video, note that video and greyscale are of \"Mat\" types\n",
    "        frame = cv.cvtColor(frame, cv.COLOR_BGR2GRAY)\n",
    "        #cv.imshow(\"video\", frame)\n",
    "        #cv.imshow(\"image\", frame)\n",
    "        #cv.waitKey(15)\n",
    "        #cv.waitKey(2)\n",
    "\n",
    "        frame = cv.Mat(frame.reshape(1,518400))\n",
    "        frame = frame.transpose()\n",
    "        \n",
    "        \n",
    "        #Here we are just checking that the transpose was done correctly\n",
    "        dimensions = frame.shape\n",
    "        print(dimensions)\n",
    "\n",
    "        #Here we are converting the transposed matrix \"Mat\" object into a numpy array\n",
    "        column = np.asarray(frame[:,:])\n",
    "\n",
    "        print(column.dtype)\n",
    "\n",
    "        #This is optional just to check that the conversion was done properly\n",
    "        #print(array.shape)\n",
    "        \n",
    "        array2D[:,counter:counter+1]= column[0:,]\n",
    "        counter = counter+1\n",
    "        print(counter)\n",
    "\n",
    "        \n",
    "\n",
    "\n",
    "print(counter)\n",
    "video.release()\n",
    "cv.destroyAllWindows()"
   ]
  },
  {
   "cell_type": "code",
   "execution_count": 10,
   "id": "25efaab8",
   "metadata": {},
   "outputs": [],
   "source": [
    "video.release()"
   ]
  },
  {
   "cell_type": "code",
   "execution_count": 11,
   "id": "728f05b9",
   "metadata": {},
   "outputs": [
    {
     "data": {
      "text/plain": [
       "array([[ 17,  18],\n",
       "       [ 17,  18],\n",
       "       [ 17,  18],\n",
       "       ...,\n",
       "       [164, 164],\n",
       "       [161, 161],\n",
       "       [160, 159]], dtype=uint8)"
      ]
     },
     "execution_count": 11,
     "metadata": {},
     "output_type": "execute_result"
    }
   ],
   "source": [
    "array2D[:,0:2]"
   ]
  },
  {
   "cell_type": "code",
   "execution_count": 12,
   "id": "7d60f3e8",
   "metadata": {},
   "outputs": [
    {
     "data": {
      "text/plain": [
       "array([[ 25],\n",
       "       [ 25],\n",
       "       [ 26],\n",
       "       ...,\n",
       "       [160],\n",
       "       [160],\n",
       "       [160]], dtype=uint8)"
      ]
     },
     "execution_count": 12,
     "metadata": {},
     "output_type": "execute_result"
    }
   ],
   "source": [
    "column"
   ]
  },
  {
   "cell_type": "code",
   "execution_count": 13,
   "id": "e2be0999",
   "metadata": {},
   "outputs": [
    {
     "data": {
      "text/plain": [
       "array([[ 17,  18,  18, ...,  25,  25,  25],\n",
       "       [ 17,  18,  18, ...,  25,  25,  25],\n",
       "       [ 17,  18,  18, ...,  26,  26,  26],\n",
       "       ...,\n",
       "       [164, 164, 164, ..., 160, 160, 160],\n",
       "       [161, 161, 161, ..., 160, 160, 160],\n",
       "       [160, 159, 159, ..., 160, 160, 160]], dtype=uint8)"
      ]
     },
     "execution_count": 13,
     "metadata": {},
     "output_type": "execute_result"
    }
   ],
   "source": [
    "array2D"
   ]
  },
  {
   "cell_type": "code",
   "execution_count": 14,
   "id": "2a7275c0",
   "metadata": {},
   "outputs": [
    {
     "data": {
      "text/plain": [
       "(518400, 379)"
      ]
     },
     "execution_count": 14,
     "metadata": {},
     "output_type": "execute_result"
    }
   ],
   "source": [
    "np.shape(array2D)"
   ]
  },
  {
   "cell_type": "code",
   "execution_count": 15,
   "id": "64b4d2e5",
   "metadata": {},
   "outputs": [
    {
     "data": {
      "text/plain": [
       "(518400, 1)"
      ]
     },
     "execution_count": 15,
     "metadata": {},
     "output_type": "execute_result"
    }
   ],
   "source": [
    "column.shape"
   ]
  },
  {
   "cell_type": "code",
   "execution_count": 16,
   "id": "d73a4c1b",
   "metadata": {},
   "outputs": [],
   "source": [
    "#Now we can create the matrices X and Y\n",
    "\n",
    "X = array2D[:,0:378]\n",
    "Y = array2D[:,1:379]"
   ]
  },
  {
   "cell_type": "code",
   "execution_count": 17,
   "id": "a5b1be77",
   "metadata": {},
   "outputs": [
    {
     "data": {
      "text/plain": [
       "(array([[ 17,  18,  18, ...,  25,  25,  25],\n",
       "        [ 17,  18,  18, ...,  25,  25,  25],\n",
       "        [ 17,  18,  18, ...,  26,  26,  26],\n",
       "        ...,\n",
       "        [164, 164, 164, ..., 160, 160, 160],\n",
       "        [161, 161, 161, ..., 160, 160, 160],\n",
       "        [160, 159, 159, ..., 160, 160, 160]], dtype=uint8),\n",
       " array([[ 18,  18,  18, ...,  25,  25,  25],\n",
       "        [ 18,  18,  18, ...,  25,  25,  25],\n",
       "        [ 18,  18,  18, ...,  26,  26,  26],\n",
       "        ...,\n",
       "        [164, 164, 164, ..., 160, 160, 160],\n",
       "        [161, 161, 161, ..., 160, 160, 160],\n",
       "        [159, 159, 159, ..., 160, 160, 160]], dtype=uint8))"
      ]
     },
     "execution_count": 17,
     "metadata": {},
     "output_type": "execute_result"
    }
   ],
   "source": [
    "X,Y"
   ]
  },
  {
   "cell_type": "code",
   "execution_count": 1,
   "id": "82bf9ec7",
   "metadata": {},
   "outputs": [
    {
     "ename": "NameError",
     "evalue": "name 'linalg' is not defined",
     "output_type": "error",
     "traceback": [
      "\u001b[0;31m---------------------------------------------------------------------------\u001b[0m",
      "\u001b[0;31mNameError\u001b[0m                                 Traceback (most recent call last)",
      "Cell \u001b[0;32mIn[1], line 2\u001b[0m\n\u001b[1;32m      1\u001b[0m \u001b[38;5;66;03m#Now we compute the SVD\u001b[39;00m\n\u001b[0;32m----> 2\u001b[0m s\u001b[38;5;241m=\u001b[39m\u001b[43mlinalg\u001b[49m\u001b[38;5;241m.\u001b[39msvd(X,compute_uv\u001b[38;5;241m=\u001b[39m\u001b[38;5;28;01mFalse\u001b[39;00m,overwrite_a\u001b[38;5;241m=\u001b[39m\u001b[38;5;28;01mTrue\u001b[39;00m,check_finite\u001b[38;5;241m=\u001b[39m\u001b[38;5;28;01mFalse\u001b[39;00m)\n",
      "\u001b[0;31mNameError\u001b[0m: name 'linalg' is not defined"
     ]
    }
   ],
   "source": [
    "#Now we compute the SVD\n",
    "s=linalg.svd(X,compute_uv=False,overwrite_a=True,check_finite=False)"
   ]
  },
  {
   "cell_type": "code",
   "execution_count": 19,
   "id": "df30d146",
   "metadata": {},
   "outputs": [],
   "source": [
    "s=np.diag(s)"
   ]
  },
  {
   "cell_type": "code",
   "execution_count": 20,
   "id": "7a5253bb",
   "metadata": {},
   "outputs": [
    {
     "data": {
      "text/plain": [
       "array([[1.8405914e+06, 0.0000000e+00, 0.0000000e+00, ..., 0.0000000e+00,\n",
       "        0.0000000e+00, 0.0000000e+00],\n",
       "       [0.0000000e+00, 2.1099931e+05, 0.0000000e+00, ..., 0.0000000e+00,\n",
       "        0.0000000e+00, 0.0000000e+00],\n",
       "       [0.0000000e+00, 0.0000000e+00, 9.8197492e+04, ..., 0.0000000e+00,\n",
       "        0.0000000e+00, 0.0000000e+00],\n",
       "       ...,\n",
       "       [0.0000000e+00, 0.0000000e+00, 0.0000000e+00, ..., 4.2285442e+00,\n",
       "        0.0000000e+00, 0.0000000e+00],\n",
       "       [0.0000000e+00, 0.0000000e+00, 0.0000000e+00, ..., 0.0000000e+00,\n",
       "        4.6083461e-03, 0.0000000e+00],\n",
       "       [0.0000000e+00, 0.0000000e+00, 0.0000000e+00, ..., 0.0000000e+00,\n",
       "        0.0000000e+00, 2.5567529e-03]], dtype=float32)"
      ]
     },
     "execution_count": 20,
     "metadata": {},
     "output_type": "execute_result"
    }
   ],
   "source": [
    "s"
   ]
  },
  {
   "cell_type": "code",
   "execution_count": 21,
   "id": "1cd251be",
   "metadata": {},
   "outputs": [],
   "source": [
    "#u,s,vh = linalg.svd(X,overwrite_a=True,check_finite=False,lapack_driver='gesvd')"
   ]
  },
  {
   "cell_type": "code",
   "execution_count": 22,
   "id": "60efc7b0",
   "metadata": {},
   "outputs": [],
   "source": [
    "Xt = X.transpose()"
   ]
  }
 ],
 "metadata": {
  "kernelspec": {
   "display_name": "Python 3 (ipykernel)",
   "language": "python",
   "name": "python3"
  },
  "language_info": {
   "codemirror_mode": {
    "name": "ipython",
    "version": 3
   },
   "file_extension": ".py",
   "mimetype": "text/x-python",
   "name": "python",
   "nbconvert_exporter": "python",
   "pygments_lexer": "ipython3",
   "version": "3.9.13"
  }
 },
 "nbformat": 4,
 "nbformat_minor": 5
}
